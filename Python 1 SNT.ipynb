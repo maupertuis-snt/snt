{
 "cells": [
  {
   "cell_type": "markdown",
   "metadata": {},
   "source": [
    "# Python en SNT\n",
    "## Introduction\n",
    "Le langage python est un langage de programmation multiplateformes. Les mêmes programmes peuvent fonctionner sur tous les types de machines, PC, MAC, LINUX. Ce langage créé en 1989 par Guido van Rossum est très utililsé dans de nombreux domaines comme la recherche ou les sciences des données. De nombreuses bibliothèque permettent de traiter toutes sortes d'informations. \n",
    "\n",
    "Ce langage est simple a lire et sa syntaxe, la façon d'écrire le programme est réduite au minimum.\n",
    "Cette activité SNT va vous faire découvrir la notion de variable et quelleque instruction du langage python.\n",
    "\n",
    "C'est parti !\n",
    "\n",
    "## Présentation des notebooks\n",
    "Le document que vos consulté est un notebook jupyter pour Python. Il est composé de blocs (des cellules) contenant du texte ou du code python. Vous pouvez exécuter le code en cliquant sur le bouton Exécuté dans la barre de menu ou plus directement avec Shift Entrer au clavier. \n",
    "Le code s'éxécute, traite les donnéeset affiche le résultat s'il existe. \n",
    "\n",
    "Pour commencer, exécuter le code suivant:\n"
   ]
  },
  {
   "cell_type": "code",
   "execution_count": null,
   "metadata": {},
   "outputs": [],
   "source": [
    "5 + 13\n"
   ]
  },
  {
   "cell_type": "markdown",
   "metadata": {},
   "source": [
    "voila, l'ordianteur affiche le résultat du calcul que python à réalisé. Un autre bloc:\n"
   ]
  },
  {
   "cell_type": "code",
   "execution_count": null,
   "metadata": {},
   "outputs": [],
   "source": [
    "nom = input(\"quel est ton nom ?\")\n",
    "print(\"Bonjour, \",nom , \"enchanté de travailler avec toi.\")\n"
   ]
  },
  {
   "cell_type": "markdown",
   "metadata": {},
   "source": [
    "Ce micro programme de deux lignes vous demande votre nom puis affiche un message de bienvenue personnalisé. \n",
    "Pour interagir avec l'utilisateur, l'ordinateur a besoin d'entrées, et de sorties. C'est la base de la programmation. \n",
    "Pour stocker ces données, les entrées et les sorties, il faut des variables. \n",
    "\n",
    "Mais une variable, c'est quoi?\n"
   ]
  },
  {
   "cell_type": "markdown",
   "metadata": {},
   "source": [
    "[![video Educode les variables 1](educodeVariable1.JPG)](https://youtu.be/ckP-MPyGhow?list=PLG38RdG_6oUNLtTJfWGz7t11dhP6aTkWv)\n"
   ]
  },
  {
   "cell_type": "markdown",
   "metadata": {},
   "source": [
    "Mais comment ça s'utilise ?\n",
    "\n",
    "[![video Educode les variables 2](educodeVariable2.JPG)](https://youtu.be/5zA8_3YDXb4?list=PLG38RdG_6oUNLtTJfWGz7t11dhP6aTkWv)"
   ]
  },
  {
   "cell_type": "markdown",
   "metadata": {},
   "source": [
    "# A vous de tester\n",
    "Maintenant, vous allez expérimenter la manipulation de données dans des variables. \n",
    "Les blocs suivants sont à modifier puis à exécuter. \n",
    "A chaque étape, vous verrez ce que le langage python fait avec les données dans les variables.\n"
   ]
  },
  {
   "cell_type": "markdown",
   "metadata": {},
   "source": [
    "### Les opérations sur les variables\n",
    "Les opérateurs sont : \n",
    "  - l'addition : +\n",
    "  - la soustraction : - \n",
    "  - la division : // ou %\n",
    "  - la multiplication : *\n",
    "  \n",
    " Vous connaissez bien les opérateurs de calcul mais que font - ils sur les variables ?\n",
    " "
   ]
  },
  {
   "cell_type": "code",
   "execution_count": null,
   "metadata": {},
   "outputs": [],
   "source": [
    "nombre1 = 5    # 5 est affecté à la variable nombre1.\n",
    "nombre2 = 11   \n",
    "addition = nombre1 + nombre2    # la variable addition prend la valeur de nombre1 + nombre2 .\n",
    "print(addition)\n"
   ]
  },
  {
   "cell_type": "code",
   "execution_count": null,
   "metadata": {},
   "outputs": [],
   "source": [
    "multi = nombre1 * nombre2\n",
    "print(multi)\n"
   ]
  },
  {
   "cell_type": "code",
   "execution_count": null,
   "metadata": {},
   "outputs": [],
   "source": [
    "texte = \" bonjour\"\n",
    "print(texte *3)\n"
   ]
  },
  {
   "cell_type": "code",
   "execution_count": null,
   "metadata": {},
   "outputs": [],
   "source": [
    "print(texte + 3 )"
   ]
  },
  {
   "cell_type": "markdown",
   "metadata": {},
   "source": [
    "Attention !! on ne peut pas faire n'importe quoi avec les variables !!!\n",
    "Si \"texte\" est une chaine de caractère (str pour string en anglais ) on ne peut pas lui ajouter un entier (int pour integer en anglais) \n",
    "\n",
    "Voila l'explication du message :  TypeError: can only concatenate str (not \"int\") to str\n",
    "\n",
    "Pour appliquer des opérateurs sur des variables, il est important de savoir ce que l'on manipule, c'est le type de la variable. \n",
    "Donc je peux ajouter \"3\", le caractère qui représente l'entier 3 , à une chaîne de caractère mais pas un entier et une chaîne.\n"
   ]
  },
  {
   "cell_type": "code",
   "execution_count": null,
   "metadata": {},
   "outputs": [],
   "source": [
    "print(texte + str(3) )\n",
    "print(texte + 3 * '!')"
   ]
  },
  {
   "cell_type": "markdown",
   "metadata": {},
   "source": [
    "## A vous de jouer: \n",
    "Réaliser un petit programme pour calculer la vitesse.\n",
    "Le programme demande les informations nécessaires pour le calcul. \n",
    "Calcul la vitesse dans une relation et affecte le résultat dans la variable vitesse.\n",
    "Afficher avec print, un message composé d'un message avec la valeur de vitesse \n",
    "rappel : la vitesse moyenne est définie par la distance divisée par le temps : V = D / t \n",
    "Les entrées seront stockées dans des variables : \n",
    "  - distance\n",
    "  - temps\n",
    "La sortie sera la variable :\n",
    "   - vitesse\n",
    "  \n",
    "Ces entrées seront initialisées avec l'instruction input(\"question? \")avec le changement de type cela donne: \n",
    "distance = int(input(quelle est la distance ?))\n",
    "\n"
   ]
  },
  {
   "cell_type": "code",
   "execution_count": null,
   "metadata": {},
   "outputs": [],
   "source": [
    "############################################\n",
    "#  Programme de calcul de la vitesse       #\n",
    "############################################\n",
    "\n",
    "# Saisie des entrées\n",
    "\n",
    "distance = int(input(quelle est la distance ?))\n",
    "\n",
    "# A vous de programmer le reste du petitprogramme\n",
    "temps  = \n",
    "\n",
    "vitesse =\n",
    "\n",
    "# Affichage du résultat avec print\n",
    "\n"
   ]
  },
  {
   "cell_type": "markdown",
   "metadata": {},
   "source": [
    "## Les tests (structure conditionnelle)\n",
    "\n",
    "[![video Educode les tests](educodeIf.JPG)](https://youtu.be/c0cm031r_eo?list=PLG38RdG_6oUNLtTJfWGz7t11dhP6aTkWv)"
   ]
  },
  {
   "cell_type": "markdown",
   "metadata": {},
   "source": [
    "# exercice\n",
    "\n",
    "Ecrire un petit programme en python qui va demander une vitesse à l'utilisateur grace à l'instruction input. \n",
    "cette vitesse sera affectée dans une variable du même nom : 'vitesse'.\n",
    "\n",
    "Faire un test avec if pour vérifier que la vitesse est inférieure à 50. Dans ce cas, afficher le message \" Vous respectez la vitesse en aglomération\" dans le cas ou la vitesse dépasse 50, vous afficherez le message \"Attention Vous dépasser la vitesse autorisée en ville\".\n"
   ]
  },
  {
   "cell_type": "code",
   "execution_count": null,
   "metadata": {},
   "outputs": [],
   "source": [
    "# affectation de la réponse de l'utilisateur dans la variable vitesse\n",
    "vitesse = int(input(a quelle vitesse êtes-vous?))\n",
    "#test pour vérifier que la vitesse est respectée\n"
   ]
  }
 ],
 "metadata": {
  "kernelspec": {
   "display_name": "Python 3",
   "language": "python",
   "name": "python3"
  },
  "language_info": {
   "codemirror_mode": {
    "name": "ipython",
    "version": 3
   },
   "file_extension": ".py",
   "mimetype": "text/x-python",
   "name": "python",
   "nbconvert_exporter": "python",
   "pygments_lexer": "ipython3",
   "version": "3.6.8"
  }
 },
 "nbformat": 4,
 "nbformat_minor": 2
}
